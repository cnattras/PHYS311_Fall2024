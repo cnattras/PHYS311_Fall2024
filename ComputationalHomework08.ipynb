{
 "cells": [
  {
   "cell_type": "markdown",
   "metadata": {},
   "source": [
    "# Classical Mechanics I (PHYS 311)\n",
    "## Studio 10"
   ]
  },
  {
   "cell_type": "markdown",
   "metadata": {},
   "source": [
    "*Name:* \n",
    "\n",
    "*Date:* "
   ]
  },
  {
   "cell_type": "markdown",
   "metadata": {},
   "source": [
    "## The General 3-Body Problem"
   ]
  },
  {
   "cell_type": "code",
   "execution_count": null,
   "metadata": {
    "scrolled": true
   },
   "outputs": [],
   "source": [
    "%pylab inline"
   ]
  },
  {
   "cell_type": "markdown",
   "metadata": {},
   "source": [
    "As in the last two weeks, we have these magic lines to give us access to the animation and conversion functionalities."
   ]
  },
  {
   "cell_type": "code",
   "execution_count": null,
   "metadata": {},
   "outputs": [],
   "source": [
    "import matplotlib.pyplot as plt\n",
    "from matplotlib.animation import FuncAnimation\n",
    "from IPython.display import HTML, display"
   ]
  },
  {
   "cell_type": "markdown",
   "metadata": {},
   "source": [
    "Last time, we defined a function `plotSomeStuff` that took arrays of x_arrays and arrays of y_arrays allowing us to plot the paths of multiple particles. It should have looked something like this:\n"
   ]
  },
  {
   "cell_type": "code",
   "execution_count": null,
   "metadata": {},
   "outputs": [],
   "source": [
    "def plotSomeStuff(x_arrays, y_arrays, nframes=100, ax = None, fig = None):\n",
    "    if ax == None or fig == None:\n",
    "        fig, ax = plt.subplots()\n",
    "        ax.set_xlim(-10,10)\n",
    "        ax.set_ylim(-10, 10)\n",
    "\n",
    "        \n",
    "    marker = {}\n",
    "    orbit = {}\n",
    "    \n",
    "    for ipath,(x_array, y_array) in enumerate(zip(x_arrays,y_arrays) ):\n",
    "        # This is an example of how to loop over all pairs of x and y arrays.\n",
    "        # The zip function takes two lists and combines them into a single list like:\n",
    "        # zip( [a, b], [c, d] ) will give [ [a,c], [b,d] ]\n",
    "        # The enumerate function gives you an index for each object in an iterable list.\n",
    "        # So enumerate([a,b]) will give a new list [ [0,a], [1,b] ]\n",
    "        marker[ipath], = ax.plot([],\"o\")\n",
    "        orbit[ipath], = ax.plot([])\n",
    "\n",
    "    def animate(frame_num):\n",
    "        \"\"\"\n",
    "        \"\"\"\n",
    "        # Now write some code here that would loop over all pairs of the x and y arrays (see above)\n",
    "        # and then use the set_data function like last week to edit each object in marker and orbit.\n",
    "        for ipath,(x_array, y_array) in enumerate(zip(x_arrays,y_arrays) ):\n",
    "            x = x_array[frame_num]\n",
    "            y = y_array[frame_num]\n",
    "            marker[ipath].set_data([[x],[y]])\n",
    "            orbit[ipath].set_data([ x_array[:frame_num],y_array[:frame_num] ])\n",
    "        return\n",
    "\n",
    "    anim = FuncAnimation(fig, animate, frames=nframes, interval=20)\n",
    "    display(HTML(anim.to_jshtml()))\n",
    "    plt.close()\n",
    "\n"
   ]
  },
  {
   "cell_type": "markdown",
   "metadata": {},
   "source": [
    "\n",
    "So now let's use this to help us plot the solutions to the 3-body problem.\n",
    "\n",
    "Remember that for the 3-body problem, we don't have a handy trick for mapping it onto the motion of a single particle of reduced mass. So that's a bit unfortunate. This now means that we'll need a more complex system of ODEs to solve this. But luckily that's not so hard for the computer to do numerically!\n",
    "\n",
    "Let's start by importing the odeint function:"
   ]
  },
  {
   "cell_type": "code",
   "execution_count": null,
   "metadata": {},
   "outputs": [],
   "source": [
    "from scipy.integrate import odeint"
   ]
  },
  {
   "cell_type": "markdown",
   "metadata": {},
   "source": [
    "Then we'll need to create a new ODE system. Before we were solving two second order ODEs that describe the motion of one particle in 2D:\n",
    "\n",
    "$$m\\ddot{x}=\\sum F_x$$\n",
    "\n",
    "$$m\\ddot{y}=\\sum F_y$$\n",
    "\n",
    "Since odeint only know's how to solve first order ODEs, we expressed this as a system of **four first order ODEs**. And this is what's needed for each particle (but because of the reduced mass trick, it meant last week, we could hand it just four).\n",
    "\n",
    "\n",
    "$$m\\dot{v}_x=\\sum F_x$$\n",
    "\n",
    "$$m\\dot{v}_y=\\sum F_y$$\n",
    "\n",
    "$$\\dot{x} = v_x$$\n",
    "\n",
    "$$\\dot{y} = v_y$$\n",
    "\n",
    "Now, we'll need to write an ODE system function that can handle an arbitrary number of particles. I've written it for you, but do make sure you understand what's happening in this `ode_system` function. Then I'll give an example of solving the 2-body problem in this way (i.e. not using the reduced mass trick!)."
   ]
  },
  {
   "cell_type": "code",
   "execution_count": null,
   "metadata": {},
   "outputs": [],
   "source": [
    "def ode_system(inputs,t,m):\n",
    "    \"\"\"\n",
    "    This function represents a series of first order ODEs.\n",
    "    \n",
    "    Return: List of expressions for the first time derivative of the inputs, in order.\n",
    "    \"\"\"\n",
    "    \n",
    "    # Parse the inputs list to positions x,y and vector magnitudes xdot,ydot\n",
    "    # But this time, let's store them in lists since there will be N\n",
    "    # values of each of these for N particles.\n",
    "    \n",
    "    x = []\n",
    "    y = []\n",
    "    xdot = []\n",
    "    ydot = []\n",
    "    \n",
    "    Fx = []\n",
    "    Fy = []\n",
    "    \n",
    "    # Let's parse the inputs\n",
    "    # This expects that the inputs are ordered as:\n",
    "    # [x1,y1,xdot1,ydot1,x2,y2,xdot2,ydot2,...]\n",
    "    for inputIndex in range(0,len(inputs),4):\n",
    "        x.append(inputs[inputIndex])\n",
    "        y.append(inputs[inputIndex+1])\n",
    "        xdot.append(inputs[inputIndex+2])\n",
    "        ydot.append(inputs[inputIndex+3])\n",
    "    \n",
    "    # Now the hard part is figuring out the sum of forces for each of these.\n",
    "    # It's no longer going to be a simple xdot=Fx/m\n",
    "    # We now need to sum together the gravitational forces of all of the other\n",
    "    # particles.\n",
    "    \n",
    "    # Let's assume the force on particle i from particle j is\n",
    "    # F_ij = -(mi*mj)/rij^2\n",
    "    \n",
    "    # So this loop is over each particle i \n",
    "    for iparticle in range(len(x)):\n",
    "        # The forces on particle i in the x and y directions.\n",
    "        # Let's initialize them as zero and then add up the components\n",
    "        Fix = 0\n",
    "        Fiy = 0\n",
    "        \n",
    "        # Position of i:\n",
    "        xi = x[iparticle]\n",
    "        yi = y[iparticle]\n",
    "        \n",
    "        # We also need the mass of the particles... Let's assume they were \n",
    "        # stored in a list in the m object.\n",
    "        mi = m[iparticle]\n",
    "        \n",
    "        for jparticle in range(len(x)):\n",
    "            # in this double loop, we want to skip when iparticle and jparticle\n",
    "            # are the same particle. we're saying there is no gravitational self-interaction\n",
    "            if iparticle==jparticle:\n",
    "                continue\n",
    "            # Position of j\n",
    "            xj = x[jparticle]\n",
    "            yj = y[jparticle]\n",
    "\n",
    "            mj = m[jparticle]\n",
    "            \n",
    "            # Now we have all the info to calculate the distance between i and j\n",
    "            rij = sqrt((xi-xj)**2 + (yi-yj)**2)\n",
    "            \n",
    "            \n",
    "            # The magnitude of this force will be\n",
    "            # -(m1*m2)/rij^2\n",
    "            # But... we need Fx and Fy. So that's then some trig. We did some\n",
    "            # of this last time:\n",
    "            phi = np.arctan2(yi-yj,xi-xj)\n",
    "            Fijr = -mi*mj/(rij*rij)\n",
    "            Fijx = Fijr*np.cos(phi)\n",
    "            Fijy = Fijr*np.sin(phi)\n",
    "            \n",
    "            # and add them to our running Fix and Fiy sums.\n",
    "            # (Google the += operator in python if you haven't seen this before)\n",
    "            Fix += Fijx\n",
    "            Fiy += Fijy\n",
    "\n",
    "        # Now we have all of the forces that act on particle i\n",
    "        # Let's store them in a list\n",
    "        Fx.append(Fix)\n",
    "        Fy.append(Fiy)\n",
    "    \n",
    "    # Let's make a list of values to return\n",
    "    # this will have to be ordered like:\n",
    "    # [xdot1, ydot1, F1x/m1, F1y/m1, xdot2, ydot2, F2x/m2, F2y/m2, ...]\n",
    "    \n",
    "    returnlist = []\n",
    "    for iparticle in range(len(x)):\n",
    "        returnlist.append(xdot[iparticle])\n",
    "        returnlist.append(ydot[iparticle])\n",
    "        returnlist.append(Fx[iparticle]/m[iparticle])\n",
    "        returnlist.append(Fy[iparticle]/m[iparticle])\n",
    "\n",
    "    return returnlist\n",
    "\n",
    "\n",
    "\n",
    "nframes = 50\n",
    "tmax = 100\n",
    "t_array = linspace(0,tmax,nframes)\n",
    "\n",
    "mlist = [1,1]\n",
    "\n",
    "solutions = odeint(ode_system, (-2,0,0,-0.4,2,0,0,0.4), t_array, args=(mlist,))\n",
    "\n",
    "x1_array = solutions[:,0]\n",
    "y1_array = solutions[:,1]\n",
    "\n",
    "x2_array = solutions[:,4]\n",
    "y2_array = solutions[:,5]\n",
    "\n",
    "\n",
    "plotSomeStuff([x1_array,x2_array],[y1_array,y2_array],nframes)"
   ]
  },
  {
   "cell_type": "markdown",
   "metadata": {},
   "source": [
    "**In a bulleted list, qualitatively explain what `ode_system` is doing, walking through the logic.** "
   ]
  },
  {
   "cell_type": "code",
   "execution_count": null,
   "metadata": {},
   "outputs": [],
   "source": []
  },
  {
   "cell_type": "markdown",
   "metadata": {},
   "source": [
    "So now... implement a 3-body system in this 2D space and plot the motion of these three particles (**You don't need to reimplement `ode_system`! The one that's already defined is flexible enough to do this for you. So you just need to hand new parameters to `odeint`**). When you add the third particle, give it a tiny mass relative to the above system. (Let's make it less than one percent the mass of anything else.) **(Comment) How does it affect the orbits from the 2-body problem above?**"
   ]
  },
  {
   "cell_type": "code",
   "execution_count": null,
   "metadata": {},
   "outputs": [],
   "source": []
  },
  {
   "cell_type": "markdown",
   "metadata": {},
   "source": [
    "Now try increasing the mass of this third particle and **comment on what happens to the orbits.** Play around with several configurations of initial conditions and masses to find a few qualitatively different evolutions of this system. Think about the sun-earth-moon system for inspiration if you're having trouble."
   ]
  },
  {
   "cell_type": "code",
   "execution_count": null,
   "metadata": {
    "scrolled": true
   },
   "outputs": [],
   "source": []
  },
  {
   "cell_type": "code",
   "execution_count": null,
   "metadata": {},
   "outputs": [],
   "source": []
  },
  {
   "cell_type": "markdown",
   "metadata": {},
   "source": [
    "Try to find a configuration where one of the particles is ejected and the other two seem happy as a stable 2-body system."
   ]
  },
  {
   "cell_type": "code",
   "execution_count": null,
   "metadata": {},
   "outputs": [],
   "source": []
  },
  {
   "cell_type": "markdown",
   "metadata": {},
   "source": [
    "Now try out a 4-body system. What can you learn about that?"
   ]
  },
  {
   "cell_type": "code",
   "execution_count": null,
   "metadata": {},
   "outputs": [],
   "source": []
  },
  {
   "cell_type": "markdown",
   "metadata": {},
   "source": [
    "**EC(+0.5): Code up an N-body problem using the functions already defined. But in the handling of the initial conditions, masses, the parsing of the solutions, and the handing of the x and y arrays to the plotting function is made dynamic using lists, arrays, dicts, whatever. i.e. build a system that can scale to a large number of particles without blowing up the number of lines of code. Prove that it works by plotting a 5 particle system. If the number of lines you have scales with the number of particles, you're doing it wrong.**"
   ]
  },
  {
   "cell_type": "code",
   "execution_count": null,
   "metadata": {},
   "outputs": [],
   "source": []
  },
  {
   "cell_type": "code",
   "execution_count": null,
   "metadata": {},
   "outputs": [],
   "source": []
  }
 ],
 "metadata": {
  "kernelspec": {
   "display_name": "Python 3",
   "language": "python",
   "name": "python3"
  },
  "language_info": {
   "codemirror_mode": {
    "name": "ipython",
    "version": 3
   },
   "file_extension": ".py",
   "mimetype": "text/x-python",
   "name": "python",
   "nbconvert_exporter": "python",
   "pygments_lexer": "ipython3",
   "version": "3.8.8"
  },
  "toc": {
   "base_numbering": 1,
   "nav_menu": {},
   "number_sections": true,
   "sideBar": true,
   "skip_h1_title": false,
   "title_cell": "Table of Contents",
   "title_sidebar": "Contents",
   "toc_cell": false,
   "toc_position": {},
   "toc_section_display": true,
   "toc_window_display": false
  },
  "varInspector": {
   "cols": {
    "lenName": 16,
    "lenType": 16,
    "lenVar": 40
   },
   "kernels_config": {
    "python": {
     "delete_cmd_postfix": "",
     "delete_cmd_prefix": "del ",
     "library": "var_list.py",
     "varRefreshCmd": "print(var_dic_list())"
    },
    "r": {
     "delete_cmd_postfix": ") ",
     "delete_cmd_prefix": "rm(",
     "library": "var_list.r",
     "varRefreshCmd": "cat(var_dic_list()) "
    }
   },
   "types_to_exclude": [
    "module",
    "function",
    "builtin_function_or_method",
    "instance",
    "_Feature"
   ],
   "window_display": false
  }
 },
 "nbformat": 4,
 "nbformat_minor": 2
}
