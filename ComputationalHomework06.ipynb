{
  "cells": [
    {
      "cell_type": "markdown",
      "metadata": {
        "id": "i2C-IWzYWWdK"
      },
      "source": [
        "# Classical Mechanics I (PHYS 311)\n",
        "## Studio 8"
      ]
    },
    {
      "cell_type": "markdown",
      "metadata": {
        "id": "vIuOhhdHWWdL"
      },
      "source": [
        "*Name:*\n",
        "\n",
        "*Date:*"
      ]
    },
    {
      "cell_type": "markdown",
      "metadata": {
        "id": "zLKw09dfWWdL"
      },
      "source": [
        "## Introduction to animations\n",
        "\n",
        "Over the next few studios, we're going to work on visualizing central force problems and orbits. To do that, we'll start off by learning how to do some simple animations in `matplotlib`."
      ]
    },
    {
      "cell_type": "code",
      "execution_count": null,
      "metadata": {
        "scrolled": true,
        "id": "m5-Wp1i2WWdL"
      },
      "outputs": [],
      "source": [
        "%pylab inline"
      ]
    },
    {
      "cell_type": "markdown",
      "metadata": {
        "id": "nN46IXqsWWdL"
      },
      "source": [
        "We're going to need some useful packages provided by matplotlib:"
      ]
    },
    {
      "cell_type": "code",
      "execution_count": null,
      "metadata": {
        "id": "PaN1pfQxWWdL"
      },
      "outputs": [],
      "source": [
        "import matplotlib.pyplot as plt\n",
        "from matplotlib.animation import FuncAnimation\n",
        "from IPython.display import HTML, display"
      ]
    },
    {
      "cell_type": "markdown",
      "metadata": {
        "id": "Kc4nKLNWWWdM"
      },
      "source": [
        "Here's a simple example of how to animate something. We need to define a function that given a frame number (i.e. a single point in time), gives back an object we can draw.\n",
        "\n",
        "We then hand that to this fancy function `FuncAnimation()` who will take care of the hard part. Then we just need to convert its output to something we can display in the notebook.\n",
        "\n",
        "For ease of use later, let's also wrap this in a function that can be called concisely."
      ]
    },
    {
      "cell_type": "code",
      "execution_count": null,
      "metadata": {
        "id": "R2_oi2PCWWdM"
      },
      "outputs": [],
      "source": [
        "def plotSomeStuff(x_array, y_array, nframes=100, ax = None, fig = None):\n",
        "    if ax == None or fig == None:\n",
        "        fig, ax = plt.subplots()\n",
        "        ax.set_xlim(-10,10)\n",
        "        ax.set_ylim(-10, 10)\n",
        "\n",
        "    phi = linspace(0,2*np.pi,100)\n",
        "\n",
        "    marker1, = ax.plot([],\"o\") # Let's create an empty plot that has a circle marker\n",
        "    orbit1, = ax.plot([]) # Let's create an empty plot to eventually become an orbit line\n",
        "\n",
        "    def animate(frame_num):\n",
        "        \"\"\"\n",
        "        \"\"\"\n",
        "        x = x_array[frame_num]\n",
        "        y = y_array[frame_num]\n",
        "\n",
        "        # Let's put a marker at the last position of these arrays.\n",
        "        # We're using set_data which is updating the data stored in the marker1 object.\n",
        "        marker1.set_data((x,),(y,))\n",
        "        return\n",
        "\n",
        "    anim = FuncAnimation(fig, animate, frames=nframes, interval=20)\n",
        "    display(HTML(anim.to_jshtml()))\n",
        "    plt.close()\n",
        "\n",
        "nframes = 100\n",
        "tmax = 10\n",
        "t_array = linspace(0,tmax,nframes)\n",
        "r = 2\n",
        "x_array = r*cos(t_array/10 * 2 * np.pi)\n",
        "y_array = r*sin(t_array/10 * 2 * np.pi)\n",
        "\n",
        "# Now we can run the function\n",
        "plotSomeStuff(x_array,y_array,nframes)"
      ]
    },
    {
      "cell_type": "markdown",
      "metadata": {
        "id": "ZbTu-71mWWdM"
      },
      "source": [
        "Now copy the code above to below, and try to get an animation that shows the marker moving in a circle, but also where it's been at earlier times. I've already created an object `orbit1` for you to fill up. Inside `animate`, the `x` and `y` arrays already store this information, so just use `set_data` on the `orbit1` object to get it to trace out the path of this thing.\n",
        "\n",
        "For this, you'll need to recall how access the first N elements of a numpy array."
      ]
    },
    {
      "cell_type": "code",
      "execution_count": null,
      "metadata": {
        "scrolled": true,
        "id": "SxKKgSlcWWdM"
      },
      "outputs": [],
      "source": []
    },
    {
      "cell_type": "markdown",
      "metadata": {
        "id": "PRh2K8OpWWdM"
      },
      "source": [
        "Now we can use your new `plotSomeStuff()` function to plot some more things."
      ]
    },
    {
      "cell_type": "markdown",
      "metadata": {
        "id": "9T9y7EfYWWdM"
      },
      "source": [
        "## Using animations for visualizing physics\n",
        "\n",
        "Now that we have that tool, let's use this for some physics. Recall that we have Newton's 2nd law in polar coordinates:\n",
        "\n",
        "$$m(\\ddot r - r \\dot \\phi^2) = \\sum F_r$$\n",
        "$$m(r\\ddot \\phi + 2 \\dot r \\dot \\phi) = \\sum F_\\phi = 0$$\n",
        "\n",
        "where $F_\\phi$ is zero for central forces. This formulation was useful for calculating by hand since it gets into a basis where the Force is \"1-dimensional\". However, the computer doesn't care! It'll solve it in whatever basis we want. So we can go back and define our 2D problem in cartesian coordinates.\n",
        "\n",
        "$$m\\ddot x = \\sum F_x $$\n",
        "$$m\\ddot y = \\sum F_y $$\n",
        "\n",
        "We know how to solve systems of ODEs from past studios, so let's code up an `odeint` implementation of this.\n",
        "\n",
        "Let's start off with $F_r=-r$ to model the motion of a 2-dimensional harmonic oscillator."
      ]
    },
    {
      "cell_type": "code",
      "execution_count": null,
      "metadata": {
        "id": "uLlzP-jRWWdM"
      },
      "outputs": [],
      "source": [
        "from scipy.integrate import odeint"
      ]
    },
    {
      "cell_type": "code",
      "execution_count": null,
      "metadata": {
        "id": "bT5yP1ppWWdM"
      },
      "outputs": [],
      "source": [
        "\n",
        "def ode_system(inputs,t,m):\n",
        "    \"\"\"\n",
        "    This function represents a series of first order ODEs.\n",
        "\n",
        "    Return: List of expressions for the first time derivative of the inputs, in order.\n",
        "    \"\"\"\n",
        "\n",
        "    # Parse the inputs list to positions x,y and vector magnitudes xdot,ydot\n",
        "    [x,y,xdot,ydot] = inputs\n",
        "\n",
        "    r = np.hypot(x,y) # This is a handy function that computes sqrt(x^2+y^2) for you\n",
        "    phi = np.arctan2(y,x) # And this calculates the polar angle of our vector\n",
        "\n",
        "    # 2D Hooke's law as a central force\n",
        "    Fr = -r\n",
        "    Fx = Fr*np.cos(phi)\n",
        "    Fy = Fr*np.sin(phi)\n",
        "\n",
        "    # Return the expressions for the time-derivatives of the inputs.\n",
        "    return [xdot,ydot,Fx/m,Fy/m]\n",
        "\n",
        "\n",
        "nframes = 100\n",
        "tmax = 10\n",
        "t_array = linspace(0,tmax,nframes)\n",
        "\n",
        "# Solve the ODEs with an initial condition of:\n",
        "# x0 = 2, y0 = 2, xdot0 = 0, ydot0 = 0\n",
        "solutions = odeint(ode_system, (2,2,0,0), t_array, args=(0.1,))\n",
        "\n",
        "x_array = solutions[:,0]\n",
        "y_array = solutions[:,1]\n",
        "\n",
        "# Now we can run the function\n",
        "plotSomeStuff(x_array,y_array,nframes)"
      ]
    },
    {
      "cell_type": "markdown",
      "metadata": {
        "id": "j8VPmSl4WWdN"
      },
      "source": [
        "Now solve the same system, but releasing the particle from some point in this space, but now with a nonzero initial velocity."
      ]
    },
    {
      "cell_type": "code",
      "execution_count": null,
      "metadata": {
        "id": "LFwCmobdWWdN"
      },
      "outputs": [],
      "source": []
    },
    {
      "cell_type": "markdown",
      "metadata": {
        "id": "Zha4orLPWWdN"
      },
      "source": [
        "Now let's switch from a harmonic oscillator force to that of gravity. Create a new `ode_system_grav()` and instead of `Fr=-r`, make the force `Fr=-1/(r*r)`. Then we'll be playing with an inverse square force. Do this and draw an example trajectory, maybe with initial velocity of zero."
      ]
    },
    {
      "cell_type": "code",
      "execution_count": null,
      "metadata": {
        "id": "RhhuRLRrWWdN"
      },
      "outputs": [],
      "source": []
    },
    {
      "cell_type": "markdown",
      "metadata": {
        "id": "mrDYVel3WWdN"
      },
      "source": [
        "Play with the parameters to find a closed orbit. Some sort of ellipse. Notice the time evolution of the orbit. See how there are portions of the orbit where the particle moves faster? Try an additional set of initial conditions and come up with another closed orbit."
      ]
    },
    {
      "cell_type": "code",
      "execution_count": null,
      "metadata": {
        "id": "5zN9mSfSWWdN"
      },
      "outputs": [],
      "source": []
    },
    {
      "cell_type": "markdown",
      "metadata": {
        "id": "wht2MvDpWWdN"
      },
      "source": [
        "Now increase the kinetic energy (i.e. increase the initial total speed) and watch the orbit become unbounded. Show a situation where the particle gets slingshotted off to infinity."
      ]
    },
    {
      "cell_type": "code",
      "execution_count": null,
      "metadata": {
        "id": "6TrVLCgjWWdN"
      },
      "outputs": [],
      "source": []
    },
    {
      "cell_type": "markdown",
      "metadata": {
        "id": "iCsOTEuWWWdN"
      },
      "source": [
        "**EC(+1): For a bounded orbit, draw the area of the ellipse swept out in some time $\\Delta t$. Show how this area is a constant (because angular momentum is conserved) and therefore demonstrate Kepler's second law. (Basically draw the blue triangle shown in the animation at https://en.wikipedia.org/wiki/Kepler%27s_laws_of_planetary_motion#Second_law)**"
      ]
    },
    {
      "cell_type": "code",
      "execution_count": null,
      "metadata": {
        "id": "kwAXW5msWWdN"
      },
      "outputs": [],
      "source": []
    },
    {
      "cell_type": "code",
      "execution_count": null,
      "metadata": {
        "id": "_s5ory9xWWdN"
      },
      "outputs": [],
      "source": []
    }
  ],
  "metadata": {
    "kernelspec": {
      "display_name": "Python 3",
      "language": "python",
      "name": "python3"
    },
    "language_info": {
      "codemirror_mode": {
        "name": "ipython",
        "version": 3
      },
      "file_extension": ".py",
      "mimetype": "text/x-python",
      "name": "python",
      "nbconvert_exporter": "python",
      "pygments_lexer": "ipython3",
      "version": "3.8.8"
    },
    "toc": {
      "base_numbering": 1,
      "nav_menu": {},
      "number_sections": true,
      "sideBar": true,
      "skip_h1_title": false,
      "title_cell": "Table of Contents",
      "title_sidebar": "Contents",
      "toc_cell": false,
      "toc_position": {},
      "toc_section_display": true,
      "toc_window_display": false
    },
    "varInspector": {
      "cols": {
        "lenName": 16,
        "lenType": 16,
        "lenVar": 40
      },
      "kernels_config": {
        "python": {
          "delete_cmd_postfix": "",
          "delete_cmd_prefix": "del ",
          "library": "var_list.py",
          "varRefreshCmd": "print(var_dic_list())"
        },
        "r": {
          "delete_cmd_postfix": ") ",
          "delete_cmd_prefix": "rm(",
          "library": "var_list.r",
          "varRefreshCmd": "cat(var_dic_list()) "
        }
      },
      "types_to_exclude": [
        "module",
        "function",
        "builtin_function_or_method",
        "instance",
        "_Feature"
      ],
      "window_display": false
    },
    "colab": {
      "provenance": []
    }
  },
  "nbformat": 4,
  "nbformat_minor": 0
}