{
  "cells": [
    {
      "cell_type": "markdown",
      "metadata": {
        "id": "view-in-github",
        "colab_type": "text"
      },
      "source": [
        "<a href=\"https://colab.research.google.com/github/cnattras/PHYS311_Fall2024/blob/main/computationalhomework01.ipynb\" target=\"_parent\"><img src=\"https://colab.research.google.com/assets/colab-badge.svg\" alt=\"Open In Colab\"/></a>"
      ]
    },
    {
      "cell_type": "markdown",
      "metadata": {
        "id": "dPiATEdxAWvp"
      },
      "source": [
        "# Classical Mechanics I (PHYS 311)\n",
        "## Studio 1"
      ]
    },
    {
      "cell_type": "markdown",
      "metadata": {
        "id": "Iz3k7KzPAWvu"
      },
      "source": [
        "*Name:*\n",
        "\n",
        "*Date:*"
      ]
    },
    {
      "cell_type": "markdown",
      "metadata": {
        "id": "aghz8k6uAWvv"
      },
      "source": [
        "## Introduction"
      ]
    },
    {
      "cell_type": "markdown",
      "metadata": {
        "id": "CEt-rudmAWvw"
      },
      "source": [
        "Most weeks, we'll have a studio exercise in Python Jupyter Notebooks. I assume you'll have set up your accounts before starting this notebook. (If you haven't done this, please see S0 on Canvas for instructions ASAP!)\n",
        "\n",
        "This week we'll start with some notebook basics and some physics basics.\n",
        "\n",
        "**If you're new to Python**, there will be some resources on Canvas to learn the basics. But we'll take things relatively slow so you can learn as you go. There are many many resources, so make sure to take some time to use them if you're having trouble with Python. (There's even **extra credit** available for going through a python quick start course to build your understanding!)\n",
        "\n",
        "**If you're new to Notebooks**, check out [this link](https://www.dataquest.io/blog/jupyter-notebook-tutorial/). A notebook contains cells that can be executed (by hitting `shift+enter`). This can either execute code (here, Python) if the cell type is `code`. Or if you're trying to write an annotation like this one, set the type of cell to `Markdown`, and type in your Markdown and render it with `shift+enter`.\n",
        "\n",
        "It's very useful to know how to use **Markdown** (md) as it's a text formatting standard these days, adopted by most modern platforms. If you're new to it, check out [Google's guide to Markdown]( https://guides.github.com/features/mastering-markdown/). Here's a handy [Cheatsheet](https://www.markdownguide.org/cheat-sheet/).\n",
        "\n",
        "Double click this cell to see the md source \"code\". You can make things **bold**, _italics_, or make things headings by adding N pound signs at the beginning of a line. There are lists and links available. Take a look at the documentation from GitHub above for more info. Remember to re-render the md using `shift+enter`."
      ]
    },
    {
      "cell_type": "markdown",
      "metadata": {
        "id": "x_UuoHUxAWvx"
      },
      "source": [
        "### Basic Setup"
      ]
    },
    {
      "cell_type": "markdown",
      "metadata": {
        "id": "FWefhdWOAWvy"
      },
      "source": [
        "We're going to need a standard set of python tools for scientific work. An easy shorthand for this is the following line. Execute it and you will find that the notebook loads two very important libraries: `numpy` for numerical tools, and `matplotlib` for plotting and visualization. Click the following cell, and execute (`shift+enter`) it."
      ]
    },
    {
      "cell_type": "code",
      "execution_count": null,
      "metadata": {
        "colab": {
          "base_uri": "https://localhost:8080/"
        },
        "id": "tWMdKt5fAWvz",
        "outputId": "c96f68c5-e4cc-4cc2-8d40-c8a49e4f923e"
      },
      "outputs": [
        {
          "output_type": "stream",
          "name": "stdout",
          "text": [
            "Populating the interactive namespace from numpy and matplotlib\n"
          ]
        }
      ],
      "source": [
        "%pylab inline"
      ]
    },
    {
      "cell_type": "markdown",
      "metadata": {
        "id": "xQoU7sR5AWv1"
      },
      "source": [
        "In this class we want to get familiar with Python and Jupyter. First of all familiarize yourself with this notebook. You can enter comments, equations, code, etc. When in a code cell, just hit `enter` to create a new line of code within the same cell. To add a new cell below your current cell, just hit `b` on your keyboard, or navigate through the menus above. Preserve the final code for submission.\n",
        "\n",
        "Try to figure out how to do the following. (Google is your friend!)"
      ]
    },
    {
      "cell_type": "markdown",
      "metadata": {
        "id": "ODE9BFTyAWv1"
      },
      "source": [
        "### Python as a calculator"
      ]
    },
    {
      "cell_type": "markdown",
      "metadata": {
        "id": "8TdXPXtMAWv2"
      },
      "source": [
        "1. Calculate 2+2\n",
        "2. Calculate the sin of $\\pi$/2\n",
        "3. Calculate $4.5^4$\n",
        "\n",
        "Compute these below. Make sure the answers to each of these is visible in the output!"
      ]
    },
    {
      "cell_type": "code",
      "execution_count": null,
      "metadata": {
        "id": "ewDButJYAWv2"
      },
      "outputs": [],
      "source": []
    },
    {
      "cell_type": "markdown",
      "metadata": {
        "id": "fR-9NwfjAWv3"
      },
      "source": [
        "### Storing information in variables / types"
      ]
    },
    {
      "cell_type": "markdown",
      "metadata": {
        "id": "X-U0ctsQAWv3"
      },
      "source": [
        "Python is not a strongly typed programming language -- this is often very convenient but can be dangerous! If you're familiar with C/C++, this will feel pretty different."
      ]
    },
    {
      "cell_type": "code",
      "execution_count": null,
      "metadata": {
        "id": "JNjwx1KbAWv3"
      },
      "outputs": [],
      "source": [
        "a='boom'\n",
        "b='bap'"
      ]
    },
    {
      "cell_type": "code",
      "execution_count": null,
      "metadata": {
        "colab": {
          "base_uri": "https://localhost:8080/"
        },
        "id": "k7b9uhsCAWv3",
        "outputId": "0d240235-24f9-4698-b618-b8a548812318"
      },
      "outputs": [
        {
          "output_type": "stream",
          "name": "stdout",
          "text": [
            "<class 'str'> <class 'str'>\n"
          ]
        }
      ],
      "source": [
        "print( type(a), type(b) )"
      ]
    },
    {
      "cell_type": "markdown",
      "metadata": {
        "id": "2L2adc9DAWv4"
      },
      "source": [
        "So we can see that python has infered that you wanted `a` and `b` to be `str` (string) objects without you ever having to say it explicitly. You can imagine how this may be dangerous at times."
      ]
    },
    {
      "cell_type": "markdown",
      "metadata": {
        "id": "a16Pjy6KAWv4"
      },
      "source": [
        "To get documentation for anything in this notebook, just put a question mark in front of it. To learn what `type` does, do the following:"
      ]
    },
    {
      "cell_type": "code",
      "execution_count": null,
      "metadata": {
        "id": "nZ7bcIy8AWv4"
      },
      "outputs": [],
      "source": [
        "?type"
      ]
    },
    {
      "cell_type": "markdown",
      "metadata": {
        "id": "W4hO_3fTAWv4"
      },
      "source": [
        "`a` and `b` both contain `str` objects now. Try concatenating them with the `+` operator:"
      ]
    },
    {
      "cell_type": "code",
      "execution_count": null,
      "metadata": {
        "colab": {
          "base_uri": "https://localhost:8080/",
          "height": 35
        },
        "id": "FCt-Qk6DAWv4",
        "outputId": "dfd432c6-459f-4b01-c110-37f924ce1014"
      },
      "outputs": [
        {
          "output_type": "execute_result",
          "data": {
            "text/plain": [
              "'boombap'"
            ],
            "application/vnd.google.colaboratory.intrinsic+json": {
              "type": "string"
            }
          },
          "metadata": {},
          "execution_count": 5
        }
      ],
      "source": [
        "a+b"
      ]
    },
    {
      "cell_type": "markdown",
      "metadata": {
        "id": "302FE7VUAWv4"
      },
      "source": [
        "Let's try storing some numbers now:"
      ]
    },
    {
      "cell_type": "code",
      "execution_count": null,
      "metadata": {
        "id": "rrTHMa7MAWv5"
      },
      "outputs": [],
      "source": [
        "c=2\n",
        "d=2."
      ]
    },
    {
      "cell_type": "markdown",
      "metadata": {
        "id": "6GKKzR53AWv5"
      },
      "source": [
        "What are the types of the variables `c` and `d`? Notice that we're in Python 3 (look in the upper right of your window to see the Kernel name). If you're interested, you can learn about some of the differences between Python 2 and 3 w.r.t. how these types are handled."
      ]
    },
    {
      "cell_type": "code",
      "execution_count": null,
      "metadata": {
        "id": "kyqxepTuAWv5"
      },
      "outputs": [],
      "source": []
    },
    {
      "cell_type": "markdown",
      "metadata": {
        "id": "vgg91NtpAWv5"
      },
      "source": [
        "The first thing we should have gone over is how to add a comment in python. Whenever there is a pound sign, `#` in your python, everything after this symbol is not processed and is a comment. **Comments are very important** when writing code -- both for communicating to others the purpose of the code, and for you to understand your code later, but also from a design perspective, they are crucial for effectively organizing your code."
      ]
    },
    {
      "cell_type": "code",
      "execution_count": null,
      "metadata": {
        "id": "pLB9DBR2AWv5"
      },
      "outputs": [],
      "source": [
        "a = \"This line isn't commented\" #but this stuff is\n",
        "# And so is this whole line!"
      ]
    },
    {
      "cell_type": "markdown",
      "metadata": {
        "id": "gDmbsZ04AWv5"
      },
      "source": [
        "### Lists and Arrays"
      ]
    },
    {
      "cell_type": "code",
      "execution_count": null,
      "metadata": {
        "colab": {
          "base_uri": "https://localhost:8080/"
        },
        "id": "9-EElXtvAWv5",
        "outputId": "548a3310-e660-41b2-bc93-6af84874cf76"
      },
      "outputs": [
        {
          "output_type": "stream",
          "name": "stdout",
          "text": [
            "Populating the interactive namespace from numpy and matplotlib\n"
          ]
        }
      ],
      "source": [
        "%pylab inline"
      ]
    },
    {
      "cell_type": "markdown",
      "metadata": {
        "id": "RYQwu_2XAWv6"
      },
      "source": [
        "We can store multiple objects in a list in python."
      ]
    },
    {
      "cell_type": "code",
      "execution_count": null,
      "metadata": {
        "colab": {
          "base_uri": "https://localhost:8080/"
        },
        "id": "ZOcfPTCIAWv6",
        "outputId": "f0731455-6ac1-4edb-d38f-c13de7af18ab"
      },
      "outputs": [
        {
          "output_type": "stream",
          "name": "stdout",
          "text": [
            "3\n"
          ]
        }
      ],
      "source": [
        "myList=[3,1,4,1,5,9]\n",
        "print(myList[0]) # this will print out the first element of myList"
      ]
    },
    {
      "cell_type": "markdown",
      "metadata": {
        "id": "yPzmOvnkAWv6"
      },
      "source": [
        "Access and print the last element of the list `myList`. Can you figure out a way to do this without a priori knowing how long the list is? (Google is your friend!)"
      ]
    },
    {
      "cell_type": "code",
      "execution_count": null,
      "metadata": {
        "id": "K_O51ZzrAWv6"
      },
      "outputs": [],
      "source": []
    },
    {
      "cell_type": "markdown",
      "metadata": {
        "id": "vYEQyuAhAWv6"
      },
      "source": [
        "Now set it to another number and then print out the entire object `myList`."
      ]
    },
    {
      "cell_type": "code",
      "execution_count": null,
      "metadata": {
        "id": "NYFSi3VZAWv6"
      },
      "outputs": [],
      "source": []
    },
    {
      "cell_type": "markdown",
      "metadata": {
        "id": "rlszDFWaAWv6"
      },
      "source": [
        "What is the type of `myList`?"
      ]
    },
    {
      "cell_type": "code",
      "execution_count": null,
      "metadata": {
        "id": "NukgblBjAWv7"
      },
      "outputs": [],
      "source": []
    },
    {
      "cell_type": "markdown",
      "metadata": {
        "id": "U1IzfH1-AWv7"
      },
      "source": [
        "There is a very similar structure given by `numpy` called the `ndarray` which is an array type. We'll see it shortly."
      ]
    },
    {
      "cell_type": "markdown",
      "metadata": {
        "id": "Q5jhRy6iAWv7"
      },
      "source": [
        "### Plotting data"
      ]
    },
    {
      "cell_type": "markdown",
      "metadata": {
        "id": "K7TuPSiUAWv7"
      },
      "source": [
        "We are loading some libraries that will let us plot things and that will let us do more complicated mathematical things."
      ]
    },
    {
      "cell_type": "code",
      "execution_count": null,
      "metadata": {
        "colab": {
          "base_uri": "https://localhost:8080/"
        },
        "id": "Sbxm9BCWAWwF",
        "outputId": "fafbc00f-4e26-43a8-e1f6-2935a22c412d"
      },
      "outputs": [
        {
          "output_type": "stream",
          "name": "stdout",
          "text": [
            "Populating the interactive namespace from numpy and matplotlib\n"
          ]
        }
      ],
      "source": [
        "%pylab inline"
      ]
    },
    {
      "cell_type": "markdown",
      "metadata": {
        "id": "huAq59JLAWwF"
      },
      "source": [
        "In python, we plot data points. That means that we need to generate 2 vectors of equal length. One contains the x-values and the second one the y-values."
      ]
    },
    {
      "cell_type": "code",
      "execution_count": null,
      "metadata": {
        "colab": {
          "base_uri": "https://localhost:8080/"
        },
        "id": "zWtX5qatAWwG",
        "outputId": "04be9e6d-aed5-4a67-d9ab-1ac6a5a67864"
      },
      "outputs": [
        {
          "output_type": "execute_result",
          "data": {
            "text/plain": [
              "[1, 2, 3, 4, 5, 6, 7, 8, 9]"
            ]
          },
          "metadata": {},
          "execution_count": 11
        }
      ],
      "source": [
        "vector_list = list( range(1, 10, 1) )\n",
        "vector_list"
      ]
    },
    {
      "cell_type": "code",
      "execution_count": null,
      "metadata": {
        "id": "ZuqiaIpgAWwG"
      },
      "outputs": [],
      "source": [
        "?range"
      ]
    },
    {
      "cell_type": "code",
      "execution_count": null,
      "metadata": {
        "colab": {
          "base_uri": "https://localhost:8080/"
        },
        "id": "_RITxJvRAWwG",
        "outputId": "9bd2db17-7041-4671-bf65-da34df1fc04d"
      },
      "outputs": [
        {
          "output_type": "execute_result",
          "data": {
            "text/plain": [
              "array([1, 2, 3, 4, 5, 6, 7, 8, 9])"
            ]
          },
          "metadata": {},
          "execution_count": 13
        }
      ],
      "source": [
        "vector_array = arange(1, 10, 1)\n",
        "vector_array"
      ]
    },
    {
      "cell_type": "code",
      "execution_count": null,
      "metadata": {
        "id": "kMZGyUgyAWwG"
      },
      "outputs": [],
      "source": [
        "?arange"
      ]
    },
    {
      "cell_type": "markdown",
      "metadata": {
        "id": "2mgQ33DQAWwG"
      },
      "source": [
        "Now we're going to create a custom python function to represent the function we'd like to plot."
      ]
    },
    {
      "cell_type": "code",
      "execution_count": null,
      "metadata": {
        "id": "xjltfE6HAWwH"
      },
      "outputs": [],
      "source": [
        "def squared(x):\n",
        "    squared = x*x\n",
        "    return squared"
      ]
    },
    {
      "cell_type": "markdown",
      "metadata": {
        "id": "4phYcNBbAWwH"
      },
      "source": [
        "You can now use this function `squared()` to square things! Give it a shot by squaring some number:"
      ]
    },
    {
      "cell_type": "code",
      "execution_count": null,
      "metadata": {
        "id": "-ITelVdEAWwH"
      },
      "outputs": [],
      "source": []
    },
    {
      "cell_type": "markdown",
      "metadata": {
        "id": "Q6RJaIcmAWwH"
      },
      "source": [
        "Now we're about to see a crucial difference between python's built-in `list` type and `numpy`'s more powerful `ndarray`. What happens when you try to feed `vector_list` into this new function? What about when you hand it `vector_array`? Find something that works and store it in a new variable."
      ]
    },
    {
      "cell_type": "code",
      "execution_count": null,
      "metadata": {
        "id": "yUukF_kBAWwH"
      },
      "outputs": [],
      "source": []
    },
    {
      "cell_type": "markdown",
      "metadata": {
        "id": "ar0AyM9nAWwH"
      },
      "source": [
        "We can quickly plot the data points you've just calculated with the `plot` command (provided by pylab). Remember to use `?plot` for more information. Basically, you want to run `plot(x,y)` where your `x` and `y` are array objects (or can be list objects in principle). An optional third argument takes a string that defines the draw style. Try out using `o-` for a circle at each point and a line conecting the points.\n",
        "\n",
        "Don't forget to label your axes. Always always always label axes!!! In the same cell as your plot command, try out the `xlabel()` and `ylabel()` commands.\n",
        "\n",
        "Remember that we're looking for a plot of f(x) on the y axis, and x on the x axis. How should you call the `plot()` function here?"
      ]
    },
    {
      "cell_type": "code",
      "execution_count": null,
      "metadata": {
        "id": "gtWyR_v8AWwH"
      },
      "outputs": [],
      "source": []
    },
    {
      "cell_type": "markdown",
      "metadata": {
        "id": "OvhIO16jAWwH"
      },
      "source": [
        "Now go ahead and make a new function that computes the sine of the input, and plot it! (Careful with what you call your new function to make sure it doesn't clash with other already-defined functions!)"
      ]
    },
    {
      "cell_type": "code",
      "execution_count": null,
      "metadata": {
        "id": "bMx7BzoDAWwH"
      },
      "outputs": [],
      "source": []
    },
    {
      "cell_type": "markdown",
      "metadata": {
        "collapsed": true,
        "id": "gadNX_J7AWwH"
      },
      "source": [
        "Notice that our sampling is quite low (only 10 points). Try playing around to get these functions samples with 100 points to get a higher resolution representation of these functions.\n",
        "\n",
        "Search the `matplotlib` manual and figure out more ways to plot the data. Add a title to the figure!"
      ]
    },
    {
      "cell_type": "markdown",
      "metadata": {
        "id": "mJBMuAlyAWwI"
      },
      "source": [
        "**EC(+0.5) [\"For +0.5 extra credit -- feel free to skip!\"]: Add a cell below this and plot three different functions on the same axis with three different line styles. Make sure to label your axes and draw a legend!**"
      ]
    },
    {
      "cell_type": "markdown",
      "metadata": {
        "id": "EO31K7tEAWwI"
      },
      "source": [
        "### Defining a function"
      ]
    },
    {
      "cell_type": "markdown",
      "metadata": {
        "id": "3PLpIl5vAWwI"
      },
      "source": [
        "Define your own function that converts Fahrenheit into Celsius and show that it works for a few input values."
      ]
    },
    {
      "cell_type": "code",
      "execution_count": null,
      "metadata": {
        "id": "sQpT4gzNAWwI"
      },
      "outputs": [],
      "source": []
    },
    {
      "cell_type": "markdown",
      "metadata": {
        "id": "W-F47dtbAWwI"
      },
      "source": [
        "### Conditionals"
      ]
    },
    {
      "cell_type": "markdown",
      "metadata": {
        "id": "dWHv2z7aAWwI"
      },
      "source": [
        "There are various ways of steering the logic of a program. Remember that fundamentally, a program executes in a logical order. Normally if you were writing a script from scratch, you would read the logic from top to bottom. Notebooks violate this a little bit and allow you to execute things in strange orders, but you should try to organize your thoughts from top to bottom.\n",
        "\n",
        "Let's start with a simple `if` statement. The syntax for such statements is pretty particular in python."
      ]
    },
    {
      "cell_type": "code",
      "execution_count": null,
      "metadata": {
        "id": "DTYTDhIJAWwI"
      },
      "outputs": [],
      "source": [
        "a = True\n",
        "aIsTrue = False\n",
        "if a == True:\n",
        "    aIsTrue = True"
      ]
    },
    {
      "cell_type": "markdown",
      "metadata": {
        "id": "mPyi6p3hAWwI"
      },
      "source": [
        "Note the whitespace that represents being \"inside\" the `if` statement. Here it's four spaces (and that was acheived by just hitting `tab` on your keyboard). Python doesn't actually care how much whitespace there is, but it *does* care that you stay consistent with your indentation levels."
      ]
    },
    {
      "cell_type": "markdown",
      "metadata": {
        "id": "YeZONgQ9AWwI"
      },
      "source": [
        "You can also ask about the alternative with `else`, or even additional alternate scenarios with intermediate `elif` commands. (You may be familiar with `else if` in C/C++, but python has a specific symbol for this command.)"
      ]
    },
    {
      "cell_type": "code",
      "execution_count": null,
      "metadata": {
        "colab": {
          "base_uri": "https://localhost:8080/"
        },
        "id": "ukVMzb_4AWwI",
        "outputId": "2923dcd1-72bb-4dc2-e9e9-1cc12494854b"
      },
      "outputs": [
        {
          "output_type": "stream",
          "name": "stdout",
          "text": [
            "a is zero\n"
          ]
        }
      ],
      "source": [
        "a = 0\n",
        "if a > 0:\n",
        "    description = \"positive\"\n",
        "elif a < 0:\n",
        "    description = \"negative\"\n",
        "else:\n",
        "    description = \"zero\"\n",
        "print(\"a is \" + description)"
      ]
    },
    {
      "cell_type": "markdown",
      "metadata": {
        "id": "d70_npzGAWwI"
      },
      "source": [
        "Write a quick function to take in a number grade that returns a string containing the appropriate letter grade A,B,C,D, or F, using the standard grade boundaries. And then test it with a grade. This will be your final course grade. (No - not really.)"
      ]
    },
    {
      "cell_type": "code",
      "execution_count": null,
      "metadata": {
        "id": "OWNFqyTmAWwI"
      },
      "outputs": [],
      "source": []
    },
    {
      "cell_type": "markdown",
      "metadata": {
        "id": "N-y_4ko4AWwJ"
      },
      "source": [
        "### Loops"
      ]
    },
    {
      "cell_type": "markdown",
      "metadata": {
        "id": "vYKhzhy2AWwJ"
      },
      "source": [
        "#### The for-loop"
      ]
    },
    {
      "cell_type": "markdown",
      "metadata": {
        "id": "PQ4uYuyrAWwJ"
      },
      "source": [
        "There are two ways to make the computer do things repeatedly. The first one we will discuss is the for-loop."
      ]
    },
    {
      "cell_type": "code",
      "execution_count": null,
      "metadata": {
        "id": "648ZRRHpAWwJ"
      },
      "outputs": [],
      "source": [
        "vector1 = arange(1,10,0.5)\n",
        "vector2 = arange(1,10,0.5)\n",
        "for i in range(len(vector1)):\n",
        "    vector2[i] = vector1[i]*vector1[i]"
      ]
    },
    {
      "cell_type": "code",
      "execution_count": null,
      "metadata": {
        "colab": {
          "base_uri": "https://localhost:8080/",
          "height": 447
        },
        "id": "32StfvVzAWwJ",
        "outputId": "ae61372e-1612-418c-e528-2c3b38381340"
      },
      "outputs": [
        {
          "output_type": "execute_result",
          "data": {
            "text/plain": [
              "[<matplotlib.lines.Line2D at 0x7ed1a32f1c10>]"
            ]
          },
          "metadata": {},
          "execution_count": 19
        },
        {
          "output_type": "display_data",
          "data": {
            "text/plain": [
              "<Figure size 640x480 with 1 Axes>"
            ],
            "image/png": "[encoded data removed]"
          },
          "metadata": {}
        }
      ],
      "source": [
        "plot(vector1,vector2)"
      ]
    },
    {
      "cell_type": "markdown",
      "metadata": {
        "id": "Q_bB9o-HAWwJ"
      },
      "source": [
        "#### The while loop"
      ]
    },
    {
      "cell_type": "markdown",
      "metadata": {
        "id": "-wwVgcW8AWwJ"
      },
      "source": [
        "Look it up. It's a dangerous loop. We hopefully won't need it in this class, but it's important for you to know about. Essentially it repeats its contents until it's argument is false. (Just like in other languages.)"
      ]
    },
    {
      "cell_type": "markdown",
      "metadata": {
        "id": "At62wjvKAWwJ"
      },
      "source": [
        "### Reading data"
      ]
    },
    {
      "cell_type": "markdown",
      "metadata": {
        "id": "QXOjhxlEAWwJ"
      },
      "source": [
        "Download the data file 'http://folk.uio.no/malthe/mechbook/100m.d ' and copy into the variable `data`. I suggest that you make an extra folder in your home directory called `data` and put this file in there. You'll use the `loadtxt` function which you should give the path to this new file relative to the location of this notebook."
      ]
    },
    {
      "cell_type": "code",
      "execution_count": null,
      "metadata": {
        "colab": {
          "base_uri": "https://localhost:8080/"
        },
        "id": "e1795P4VAWwJ",
        "outputId": "6707242a-b1b1-4aa2-c183-740163a9e390"
      },
      "outputs": [
        {
          "output_type": "stream",
          "name": "stdout",
          "text": [
            "--2025-08-21 19:01:33--  http://folk.uio.no/malthe/mechbook/100m.d\n",
            "Resolving folk.uio.no (folk.uio.no)... 129.240.118.92, 2001:700:100:118::92\n",
            "Connecting to folk.uio.no (folk.uio.no)|129.240.118.92|:80... connected.\n",
            "HTTP request sent, awaiting response... 301 \n",
            "Location: http://folk.universitetetioslo.no/malthe/mechbook/100m.d [following]\n",
            "--2025-08-21 19:01:33--  http://folk.universitetetioslo.no/malthe/mechbook/100m.d\n",
            "Resolving folk.universitetetioslo.no (folk.universitetetioslo.no)... 129.240.118.41, 2001:700:100:118::41\n",
            "Connecting to folk.universitetetioslo.no (folk.universitetetioslo.no)|129.240.118.41|:80... connected.\n",
            "HTTP request sent, awaiting response... 301 Moved Permanently\n",
            "Location: https://folk.universitetetioslo.no/malthe/mechbook/100m.d [following]\n",
            "--2025-08-21 19:01:33--  https://folk.universitetetioslo.no/malthe/mechbook/100m.d\n",
            "Connecting to folk.universitetetioslo.no (folk.universitetetioslo.no)|129.240.118.41|:443... connected.\n",
            "HTTP request sent, awaiting response... 200 \n",
            "Length: 33014 (32K) [text/x-dsrc]\n",
            "Saving to: ‘100m.d’\n",
            "\n",
            "100m.d              100%[===================>]  32.24K  --.-KB/s    in 0.02s   \n",
            "\n",
            "2025-08-21 19:01:33 (1.27 MB/s) - ‘100m.d’ saved [33014/33014]\n",
            "\n"
          ]
        }
      ],
      "source": [
        "!wget http://folk.uio.no/malthe/mechbook/100m.d\n",
        "!mkdir data\n",
        "!mv 100m.d data/100m.d\n",
        "data = loadtxt('data/100m.d')"
      ]
    },
    {
      "cell_type": "code",
      "execution_count": null,
      "metadata": {
        "colab": {
          "base_uri": "https://localhost:8080/"
        },
        "id": "92bouH83AWwJ",
        "outputId": "2cce7732-06db-4f29-899d-5613c934d580"
      },
      "outputs": [
        {
          "output_type": "execute_result",
          "data": {
            "text/plain": [
              "array([[ 0.0000000e+00, -2.1155775e-01],\n",
              "       [ 1.0000000e-02, -1.7485406e-01],\n",
              "       [ 2.0000000e-02, -1.3798607e-01],\n",
              "       ...,\n",
              "       [ 9.6800000e+00,  9.9487543e+01],\n",
              "       [ 9.6900000e+00,  9.9573488e+01],\n",
              "       [ 9.7000000e+00,  9.9659050e+01]])"
            ]
          },
          "metadata": {},
          "execution_count": 22
        }
      ],
      "source": [
        "data"
      ]
    },
    {
      "cell_type": "markdown",
      "metadata": {
        "id": "OyXXGXV7AWwJ"
      },
      "source": [
        "Explore the data variable that you generated. How many data points are in this file?"
      ]
    },
    {
      "cell_type": "code",
      "execution_count": null,
      "metadata": {
        "id": "a4ldUzdyAWwK"
      },
      "outputs": [],
      "source": []
    },
    {
      "cell_type": "markdown",
      "metadata": {
        "id": "9jWwgBtuAWwK"
      },
      "source": [
        "Now it's important to know how to access different elements of an array like this. Here we have $N$ elements (where $N$ is the answer directly above) of our dataset, with each element being an array of two numbers. If I want to only take the first 10 elements, I can use the notation `data[0:10]` and that returns the subset. I could have also left the `0` implicit with just a `data[:10]`. If you want from the 10th element to the end, you could do `data[10:len(data)]`. Again you could have left the end implicit and it would have gone to the end with `data[10:]`. Try it -- get the 10th through 20th element (including the 20th) of this array:"
      ]
    },
    {
      "cell_type": "code",
      "execution_count": null,
      "metadata": {
        "id": "uT8UAbkzAWwK"
      },
      "outputs": [],
      "source": []
    },
    {
      "cell_type": "markdown",
      "metadata": {
        "id": "PXEVt4oBAWwK"
      },
      "source": [
        "You should have 11 elements in this array. Do you? If not, try again."
      ]
    },
    {
      "cell_type": "markdown",
      "metadata": {
        "id": "vHleZ-8yAWwK"
      },
      "source": [
        "You might say -- \"Oh but how do I deal with the internal array contained in each element?\" and that would be very astute of you. Luckily for you and for us all (I'm getting loopy because it's a Friday night) `numpy` gives a handy way of accessing this with a comma.\n",
        "\n",
        "If I want an array with just the first number in the first ten elements of `data`, I could do `data[:10,0]`. Give it a shot! I can also ask for the first element of all of the elements: `data[:,0]` (here leaving both the start and end of the first index implicit).\n",
        "\n",
        "Just to be explicit, `data[:10,0]` (or equally `data[0:10,0]`) would mean \"take the first 11 elements of `data`, each of which is another array, then only give me the first element of each of *those*\". The output should be an 11-element 1D array, whereas the input is a 2D array (it needs two indices to get to a single value).\n",
        "\n",
        "Below, get an array containing just the second number in each of these data points:"
      ]
    },
    {
      "cell_type": "code",
      "execution_count": null,
      "metadata": {
        "id": "TgkO8ytUAWwK"
      },
      "outputs": [],
      "source": []
    },
    {
      "cell_type": "markdown",
      "metadata": {
        "id": "JE9c3hEFAWwK"
      },
      "source": [
        "Plot all the data that you downloaded. Let's treat the first column as the x axis values, and the second as the y axis values."
      ]
    },
    {
      "cell_type": "code",
      "execution_count": null,
      "metadata": {
        "id": "74lYjD_pAWwK"
      },
      "outputs": [],
      "source": []
    },
    {
      "cell_type": "markdown",
      "metadata": {
        "id": "Q984tQfWAWwK"
      },
      "source": [
        "### Numerical Derivatives"
      ]
    },
    {
      "cell_type": "markdown",
      "metadata": {
        "id": "1zX8Pcz0AWwK"
      },
      "source": [
        "We discussed how position $x(t)$, velocity $v(t)$ and acceleration are related.\n",
        "$$v(t) = \\frac{\\hbox{d} x(t)}{\\hbox{d} t}~,$$\n",
        "$$ a(t) = \\frac{\\hbox{d} v(t)}{\\hbox{d} t}~.$$\n",
        "In textbook problems, we can simply take the derivative but for the data that we just plotted we need to take a numerical derivative. Calculate the numerical derivative for the data that we imported."
      ]
    },
    {
      "cell_type": "code",
      "execution_count": null,
      "metadata": {
        "id": "tXDKKhVLAWwK"
      },
      "outputs": [],
      "source": [
        "def derivative(data_array):\n",
        "    delta_x = 0.\n",
        "    delta_t = 0.\n",
        "    derivative_array = zeros(len(data_array))\n",
        "    for i in range(len(data_array)-1):\n",
        "        delta_x = data[i+1,1]-data[i,1]\n",
        "        delta_t = data[i+1,0]-data[i,0]\n",
        "        derivative_array[i] = delta_x/delta_t\n",
        "\n",
        "\n",
        "    return derivative_array"
      ]
    },
    {
      "cell_type": "markdown",
      "metadata": {
        "id": "hPFaxphrAWwK"
      },
      "source": [
        "Take the derivative of the data you plotted from the last section. Let's interpret that data as the position (`data[:,1]`) as a function of the sampling times (`data[:,0]`). So the plot you made above is position (y-axis) as a function of time (x-axis). Find an array containing the velocity as a function of time."
      ]
    },
    {
      "cell_type": "code",
      "execution_count": null,
      "metadata": {
        "id": "OtxhVo6fAWwL"
      },
      "outputs": [],
      "source": []
    },
    {
      "cell_type": "markdown",
      "metadata": {
        "id": "GbX4ILO1AWwL"
      },
      "source": [
        "Great! Now that you have a new array containing the derivative, **let's plot that**! Then we should be looking at the *velocity* of this object! Remember that the derivative will be a new set of y values, but you should be able to plot against the same original x values (`data[:,0]`)."
      ]
    },
    {
      "cell_type": "code",
      "execution_count": null,
      "metadata": {
        "id": "_kaQBm9oAWwL"
      },
      "outputs": [],
      "source": []
    },
    {
      "cell_type": "markdown",
      "metadata": {
        "id": "7uJQKuyBAWwL"
      },
      "source": [
        "Try plotting both the original values (the position) and the first derivative (the velocity) on the same plot!"
      ]
    },
    {
      "cell_type": "code",
      "execution_count": null,
      "metadata": {
        "id": "xb4l451PAWwL"
      },
      "outputs": [],
      "source": []
    },
    {
      "cell_type": "markdown",
      "metadata": {
        "id": "2zE3PUVXAWwL"
      },
      "source": [
        "**EC(+0.5): If you have time at the end, come back here and try to show (numerically) how the exponential function `exp(x)` is related to its derivative.**"
      ]
    },
    {
      "cell_type": "markdown",
      "metadata": {
        "id": "CAy2hk3aAWwL"
      },
      "source": [
        "### Riemann Integral"
      ]
    },
    {
      "cell_type": "markdown",
      "metadata": {
        "id": "YoxrOxRSAWwL"
      },
      "source": [
        "In addition to numerical differentiation, let's also try a numerical integral. Remember that an integral is just the area under a curve. So you'll remember that there are geometrical methods to arrive at numerical approximations for integrals -- and this is what's done in practice in computation a lot. So let's use a simple Riemannian method of adding rectangles together."
      ]
    },
    {
      "cell_type": "code",
      "execution_count": null,
      "metadata": {
        "scrolled": true,
        "id": "gf0ZoHXMAWwL"
      },
      "outputs": [],
      "source": [
        "def f(x):\n",
        "    return x\n",
        "\n",
        "\n",
        "rangeStart = 0; rangeEnd = 10; nRectangles = 30\n",
        "nSmooth = 10*nRectangles # for drawing a (seemingly) smooth curve.\n",
        "\n",
        "# This will give us a very coarse sampling of this function -> a bunch of rectangles with\n",
        "# width (rangeEnd-rangeStart)/nRectangles\n",
        "\n",
        "x = linspace(rangeStart,rangeEnd,nRectangles+1)\n",
        "y = f(x)\n",
        "w = (rangeEnd-rangeStart)/nRectangles\n",
        "\n",
        "# This will give us the data point for our continuous version of the function. Let's say this is\n",
        "# Effectively infinitly sampled.\n",
        "\n",
        "X = linspace(rangeStart,rangeEnd,nSmooth+1)\n",
        "Y = f(X)\n",
        "\n",
        "# This plots the \"true\" function.\n",
        "plot(X,Y)\n",
        "\n",
        "# This shows the markers\n",
        "plot(x,y,'b.',markersize=10)\n",
        "\n",
        "# This will show the actual rectangle's we'll use in approximating this integral.\n",
        "bar(x,y,width=w,alpha=0.2,align='edge',edgecolor='b')\n",
        "\n",
        "title('Left Riemann Sum, N = {}'.format(nRectangles))"
      ]
    },
    {
      "cell_type": "markdown",
      "metadata": {
        "id": "dN4-G7KWAWwL"
      },
      "source": [
        "If we want to take the integral, we just need to sum up the areas of those rectangles. (Notice, we should remove the last one if we're looking for the integral between 0 and 10 here. We can do that using a negative syntax. While `x[:]` will return all of `x`, if you do `x[:-1]` it'll give all of `x` except the last element. `x[:-2]` gives all but the last two, etc etc etc.)"
      ]
    },
    {
      "cell_type": "code",
      "execution_count": null,
      "metadata": {
        "id": "yI66TNC7AWwL"
      },
      "outputs": [],
      "source": [
        "def integrate(heights, width): #give it an array of heights and then a single float with the width of each rectangle.\n",
        "    arrayOfAreas = heights*width # This is a number times an array, so it returns an array\n",
        "    return sum(arrayOfAreas) # This sums over these elements to give a number as an output.\n",
        "\n",
        "integrate(x[:-1],w)"
      ]
    },
    {
      "cell_type": "markdown",
      "metadata": {
        "id": "G-1TVWReAWwL"
      },
      "source": [
        "This `integrate` function is adding together areas of rectangles. And you can see in the region between 0 and 10, the rectangles miss a little bit (that white triangle at the top). So we expect this number to **underestimate** the correct answer. On paper, analytically calculate the correct answer for this function between 0 and 10. How does it compare to this answer?"
      ]
    },
    {
      "cell_type": "code",
      "execution_count": null,
      "metadata": {
        "id": "M_veLgAnAWwL"
      },
      "outputs": [],
      "source": []
    },
    {
      "cell_type": "markdown",
      "metadata": {
        "id": "jihSLoHAAWwL"
      },
      "source": [
        "Now try playing with the `nRectangles` parameter above to see what raising and lowering it does to the integral. (Remember that you can go back up and edit and re-execute cells.)"
      ]
    },
    {
      "cell_type": "code",
      "execution_count": null,
      "metadata": {
        "id": "kaIAiN5XAWwM"
      },
      "outputs": [],
      "source": []
    },
    {
      "cell_type": "markdown",
      "metadata": {
        "id": "EfpZb4E7AWwM"
      },
      "source": [
        "**EC(+0.5): If you still have time, try this again with a function and interval of your choice. Take any function, and approximate its integral in some range of your choosing.**"
      ]
    }
  ],
  "metadata": {
    "interpreter": {
      "hash": "9deafd394aff8b6cb6c0144de6e8b26f30e2c4e8480b925f227d21668087d7c6"
    },
    "kernelspec": {
      "display_name": "Python 3",
      "language": "python",
      "name": "python3"
    },
    "language_info": {
      "codemirror_mode": {
        "name": "ipython",
        "version": 3
      },
      "file_extension": ".py",
      "mimetype": "text/x-python",
      "name": "python",
      "nbconvert_exporter": "python",
      "pygments_lexer": "ipython3",
      "version": "3.8.8"
    },
    "toc": {
      "base_numbering": 1,
      "nav_menu": {},
      "number_sections": true,
      "sideBar": true,
      "skip_h1_title": false,
      "title_cell": "Table of Contents",
      "title_sidebar": "Contents",
      "toc_cell": false,
      "toc_position": {},
      "toc_section_display": true,
      "toc_window_display": false
    },
    "varInspector": {
      "cols": {
        "lenName": 16,
        "lenType": 16,
        "lenVar": 40
      },
      "kernels_config": {
        "python": {
          "delete_cmd_postfix": "",
          "delete_cmd_prefix": "del ",
          "library": "var_list.py",
          "varRefreshCmd": "print(var_dic_list())"
        },
        "r": {
          "delete_cmd_postfix": ") ",
          "delete_cmd_prefix": "rm(",
          "library": "var_list.r",
          "varRefreshCmd": "cat(var_dic_list()) "
        }
      },
      "types_to_exclude": [
        "module",
        "function",
        "builtin_function_or_method",
        "instance",
        "_Feature"
      ],
      "window_display": false
    },
    "colab": {
      "provenance": [],
      "include_colab_link": true
    }
  },
  "nbformat": 4,
  "nbformat_minor": 0
}